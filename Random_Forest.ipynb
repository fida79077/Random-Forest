{
  "nbformat": 4,
  "nbformat_minor": 0,
  "metadata": {
    "colab": {
      "provenance": []
    },
    "kernelspec": {
      "name": "python3",
      "display_name": "Python 3"
    },
    "language_info": {
      "name": "python"
    }
  },
  "cells": [
    {
      "cell_type": "code",
      "execution_count": null,
      "metadata": {
        "colab": {
          "base_uri": "https://localhost:8080/"
        },
        "id": "PbcSk9z7na1b",
        "outputId": "e6cab4dc-a8b3-45f1-d33d-08490b0f90fd"
      },
      "outputs": [
        {
          "output_type": "stream",
          "name": "stdout",
          "text": [
            "Accuracy of the Random Forest Classifier: 1.00\n",
            "sepal length (cm):0.11\n",
            "sepal width (cm):0.03\n",
            "petal length (cm):0.44\n",
            "petal width (cm):0.42\n"
          ]
        }
      ],
      "source": [
        "# import necessary libraries\n",
        "from sklearn.datasets import load_iris\n",
        "from sklearn.model_selection import train_test_split\n",
        "from sklearn.ensemble import RandomForestClassifier\n",
        "from sklearn.metrics import accuracy_score\n",
        "\n",
        "# load the iris dataset\n",
        "iris = load_iris()\n",
        "X = iris.data # features\n",
        "Y = iris.target # labels\n",
        "\n",
        "#split the dataset into training and testing sets\n",
        "X_train , X_test ,Y_train , Y_test = train_test_split(X , Y, test_size=0.2 , random_state = 42)\n",
        "\n",
        "#create a Random Forest classifier\n",
        "clf = RandomForestClassifier(n_estimators=100,random_state = 42)\n",
        "\n",
        "#train the classifier on the training data\n",
        "clf.fit(X_train,Y_train)\n",
        "\n",
        "#make predictions on the testing data\n",
        "Y_pred = clf.predict(X_test)\n",
        "\n",
        "#eveluate the model'accuracy\n",
        "accuracy = accuracy_score(Y_test,Y_pred)\n",
        "print(f\"Accuracy of the Random Forest Classifier: {accuracy :.2f}\")\n",
        "\n",
        "# Display feature importance (optional)\n",
        "for feature, importance in zip(iris.feature_names, clf.feature_importances_):\n",
        "  print(f\"{feature}:{importance:.2f}\")"
      ]
    },
    {
      "cell_type": "code",
      "source": [],
      "metadata": {
        "id": "_dbjl9N4k1mO"
      },
      "execution_count": null,
      "outputs": []
    }
  ]
}